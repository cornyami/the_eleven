{
  "nbformat": 4,
  "nbformat_minor": 0,
  "metadata": {
    "colab": {
      "provenance": [],
      "include_colab_link": true
    },
    "kernelspec": {
      "name": "python3",
      "display_name": "Python 3"
    },
    "language_info": {
      "name": "python"
    }
  },
  "cells": [
    {
      "cell_type": "markdown",
      "metadata": {
        "id": "view-in-github",
        "colab_type": "text"
      },
      "source": [
        "<a href=\"https://colab.research.google.com/github/cornyami/the_eleven/blob/main/%E3%80%8C%E5%9F%BA%E7%A4%8E%E7%89%A9%E4%BB%B6%E5%B0%8E%E5%90%91_%E7%AC%AC%E5%8D%81%E4%B8%80%E7%B5%84%E7%89%88%E6%9C%AC2_ipynb%E3%80%8D%E7%9A%84%E5%89%AF%E6%9C%AC.ipynb\" target=\"_parent\"><img src=\"https://colab.research.google.com/assets/colab-badge.svg\" alt=\"Open In Colab\"/></a>"
      ]
    },
    {
      "cell_type": "code",
      "execution_count": null,
      "metadata": {
        "id": "-vlFYzPV-6rU"
      },
      "outputs": [],
      "source": [
        "第一行程式碼 第一階段我們討論關於爬蟲的相關資料"
      ]
    },
    {
      "cell_type": "code",
      "source": [
        "11102307林文佳"
      ],
      "metadata": {
        "id": "ckd_r36WOuw_"
      },
      "execution_count": null,
      "outputs": []
    },
    {
      "cell_type": "code",
      "source": [
        "10907170 林德羽"
      ],
      "metadata": {
        "id": "vS9exvbJMY8x"
      },
      "execution_count": null,
      "outputs": []
    }
  ]
}