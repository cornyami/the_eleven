{
  "nbformat": 4,
  "nbformat_minor": 0,
  "metadata": {
    "colab": {
      "provenance": [],
      "authorship_tag": "ABX9TyMp1oSzAX4y9HDD7ThhEuYb",
      "include_colab_link": true
    },
    "kernelspec": {
      "name": "python3",
      "display_name": "Python 3"
    },
    "language_info": {
      "name": "python"
    }
  },
  "cells": [
    {
      "cell_type": "markdown",
      "metadata": {
        "id": "view-in-github",
        "colab_type": "text"
      },
      "source": [
        "<a href=\"https://colab.research.google.com/github/cornyami/the_eleven/blob/main/%E5%8A%A0%E6%B8%9B%E4%B9%98%E9%99%A4%E8%A8%88%E7%AE%97%E6%A9%9F.ipynb\" target=\"_parent\"><img src=\"https://colab.research.google.com/assets/colab-badge.svg\" alt=\"Open In Colab\"/></a>"
      ]
    },
    {
      "cell_type": "code",
      "execution_count": null,
      "metadata": {
        "id": "EWRKmUFnQrjW"
      },
      "outputs": [],
      "source": [
        "# 定義語料庫\n",
        "corpus = {\n",
        "    \"你好\": \"你好啊！我是計算機器人。輸入表達式或者問我其他問題吧！\",\n",
        "    \"再見\": \"再見！感謝使用計算機器人。\",\n",
        "}\n",
        "\n",
        "# 計算表達式的函式\n",
        "def calculate_expression(expression):\n",
        "    try:\n",
        "        result = eval(expression)\n",
        "        return f\"計算結果為: {result}\"\n",
        "    except Exception as e:\n",
        "        return f\"計算錯誤: {str(e)}\"\n",
        "\n",
        "# 主要的對話邏輯\n",
        "def chat():\n",
        "    print(\"ChatBot: 你好！輸入 '再見' 可以結束對話。\")\n",
        "\n",
        "    while True:\n",
        "        user_input = input(\"You: \")\n",
        "\n",
        "        if user_input == '再見':\n",
        "            print(\"ChatBot: 再見！感謝使用計算機器人。\")\n",
        "            break\n",
        "\n",
        "        if any(operator in user_input for operator in ['+', '-', '*', '/']):\n",
        "            # 如果輸入包含 + - * / 符號，則進行計算\n",
        "            result = calculate_expression(user_input)\n",
        "            print(f\"ChatBot: {result}\")\n",
        "            break\n",
        "        else:\n",
        "            response = corpus.get(user_input, \"ChatBot: 抱歉，我不懂你在說什麼。\")\n",
        "            print(response)\n",
        "\n",
        "# 啟動對話\n",
        "chat()\n"
      ]
    }
  ]
}